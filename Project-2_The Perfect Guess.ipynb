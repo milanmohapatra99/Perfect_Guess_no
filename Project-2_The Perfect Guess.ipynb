{
 "cells": [
  {
   "cell_type": "markdown",
   "id": "54deda2d",
   "metadata": {},
   "source": [
    "We are going to write a program that generates a random number and asks user to guess it.\n",
    "\n",
    "If the player guess is higher than the actual number,the program dispalys\"Lower number please\"\n",
    "\n",
    "Similarly if the user guess is too low,the program print \"Higher Number please\".\n",
    "\n",
    "When the user guess the correct number,the program displays the number of guess the player used to arrive at the number."
   ]
  },
  {
   "cell_type": "code",
   "execution_count": 1,
   "id": "3146d773",
   "metadata": {},
   "outputs": [
    {
     "name": "stdout",
     "output_type": "stream",
     "text": [
      "Enter Your Guess:-45\n",
      "oops!!you guessed it wrong !Enter a larger Number\n",
      "Enter Your Guess:-55\n",
      "oops!!you guessed it wrong !Enter a larger Number\n",
      "Enter Your Guess:-69\n",
      "oops!!you guessed it wrong !Enter a larger Number\n",
      "Enter Your Guess:-78\n",
      "oops!!you guessed it wrong !Enter a larger Number\n",
      "Enter Your Guess:-98\n",
      "oops!!you guessed it wrong !Enter a smaller Number\n",
      "Enter Your Guess:-88\n",
      "oops!!you guessed it wrong !Enter a larger Number\n",
      "Enter Your Guess:-89\n",
      "you guessed it right\n",
      "You guesses the number in 7 guesses\n"
     ]
    }
   ],
   "source": [
    "import random\n",
    "randNumber = random.randint(1,100)\n",
    "#print(randNumber)\n",
    "userGuess = None\n",
    "guesses = 0\n",
    "while(userGuess != randNumber):\n",
    "    userGuess = int(input(\"Enter Your Guess:-\"))\n",
    "    guesses += 1\n",
    "    if(userGuess == randNumber):\n",
    "        print(\"you guessed it right\")\n",
    "    else:\n",
    "        if(userGuess>randNumber):\n",
    "            print(\"oops!!you guessed it wrong !Enter a smaller Number\")\n",
    "        else:\n",
    "            print(\"oops!!you guessed it wrong !Enter a larger Number\")\n",
    "    \n",
    "print(f\"You guesses the number in {guesses} guesses\")        "
   ]
  },
  {
   "cell_type": "code",
   "execution_count": null,
   "id": "1e877c66",
   "metadata": {},
   "outputs": [],
   "source": []
  },
  {
   "cell_type": "code",
   "execution_count": null,
   "id": "bd70e5f4",
   "metadata": {},
   "outputs": [],
   "source": []
  }
 ],
 "metadata": {
  "kernelspec": {
   "display_name": "Python 3 (ipykernel)",
   "language": "python",
   "name": "python3"
  },
  "language_info": {
   "codemirror_mode": {
    "name": "ipython",
    "version": 3
   },
   "file_extension": ".py",
   "mimetype": "text/x-python",
   "name": "python",
   "nbconvert_exporter": "python",
   "pygments_lexer": "ipython3",
   "version": "3.9.7"
  }
 },
 "nbformat": 4,
 "nbformat_minor": 5
}
